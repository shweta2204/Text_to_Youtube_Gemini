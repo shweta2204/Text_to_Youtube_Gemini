{
  "nbformat": 4,
  "nbformat_minor": 0,
  "metadata": {
    "colab": {
      "provenance": [],
      "machine_shape": "hm",
      "gpuType": "T4",
      "authorship_tag": "ABX9TyML4IEntrJDdNIrk49kPB2J",
      "include_colab_link": true
    },
    "kernelspec": {
      "name": "python3",
      "display_name": "Python 3"
    },
    "language_info": {
      "name": "python"
    },
    "accelerator": "GPU"
  },
  "cells": [
    {
      "cell_type": "markdown",
      "metadata": {
        "id": "view-in-github",
        "colab_type": "text"
      },
      "source": [
        "<a href=\"https://colab.research.google.com/github/shweta2204/Text_to_Youtube_Gemini/blob/master/text_2_youtube_gemini.ipynb\" target=\"_parent\"><img src=\"https://colab.research.google.com/assets/colab-badge.svg\" alt=\"Open In Colab\"/></a>"
      ]
    },
    {
      "cell_type": "code",
      "execution_count": 6,
      "metadata": {
        "colab": {
          "base_uri": "https://localhost:8080/"
        },
        "id": "eLO50rIeVdHR",
        "outputId": "86faadfc-287c-4369-d54a-395681de899b"
      },
      "outputs": [
        {
          "output_type": "stream",
          "name": "stdout",
          "text": [
            "Cloning into 'Text_to_Youtube_Gemini'...\n",
            "remote: Enumerating objects: 92, done.\u001b[K\n",
            "remote: Counting objects: 100% (92/92), done.\u001b[K\n",
            "remote: Compressing objects: 100% (52/52), done.\u001b[K\n",
            "remote: Total 92 (delta 28), reused 92 (delta 28), pack-reused 0\u001b[K\n",
            "Receiving objects: 100% (92/92), 32.92 KiB | 16.46 MiB/s, done.\n",
            "Resolving deltas: 100% (28/28), done.\n"
          ]
        }
      ],
      "source": [
        "!git clone https://github.com/shweta2204/Text_to_Youtube_Gemini.git"
      ]
    },
    {
      "cell_type": "code",
      "source": [
        "!pip install git+https://github.com/suno-ai/bark.git"
      ],
      "metadata": {
        "colab": {
          "base_uri": "https://localhost:8080/"
        },
        "id": "CEUD25EaWzZR",
        "outputId": "484312bc-1bf7-4f8c-9149-7130c704ea7d"
      },
      "execution_count": 7,
      "outputs": [
        {
          "output_type": "stream",
          "name": "stdout",
          "text": [
            "Collecting git+https://github.com/suno-ai/bark.git\n",
            "  Cloning https://github.com/suno-ai/bark.git to /tmp/pip-req-build-m4md7wsn\n",
            "  Running command git clone --filter=blob:none --quiet https://github.com/suno-ai/bark.git /tmp/pip-req-build-m4md7wsn\n",
            "  Resolved https://github.com/suno-ai/bark.git to commit f4f32d4cd480dfec1c245d258174bc9bde3c2148\n",
            "  Installing build dependencies ... \u001b[?25l\u001b[?25hdone\n",
            "  Getting requirements to build wheel ... \u001b[?25l\u001b[?25hdone\n",
            "  Installing backend dependencies ... \u001b[?25l\u001b[?25hdone\n",
            "  Preparing metadata (pyproject.toml) ... \u001b[?25l\u001b[?25hdone\n",
            "Requirement already satisfied: boto3 in /usr/local/lib/python3.10/dist-packages (from suno-bark==0.0.1a0) (1.34.80)\n",
            "Requirement already satisfied: encodec in /usr/local/lib/python3.10/dist-packages (from suno-bark==0.0.1a0) (0.1.1)\n",
            "Requirement already satisfied: funcy in /usr/local/lib/python3.10/dist-packages (from suno-bark==0.0.1a0) (2.0)\n",
            "Requirement already satisfied: huggingface-hub>=0.14.1 in /usr/local/lib/python3.10/dist-packages (from suno-bark==0.0.1a0) (0.20.3)\n",
            "Requirement already satisfied: numpy in /usr/local/lib/python3.10/dist-packages (from suno-bark==0.0.1a0) (1.25.0)\n",
            "Requirement already satisfied: scipy in /usr/local/lib/python3.10/dist-packages (from suno-bark==0.0.1a0) (1.11.4)\n",
            "Requirement already satisfied: tokenizers in /usr/local/lib/python3.10/dist-packages (from suno-bark==0.0.1a0) (0.15.2)\n",
            "Requirement already satisfied: torch in /usr/local/lib/python3.10/dist-packages (from suno-bark==0.0.1a0) (2.2.1+cu121)\n",
            "Requirement already satisfied: tqdm in /usr/local/lib/python3.10/dist-packages (from suno-bark==0.0.1a0) (4.66.2)\n",
            "Requirement already satisfied: transformers in /usr/local/lib/python3.10/dist-packages (from suno-bark==0.0.1a0) (4.38.2)\n",
            "Requirement already satisfied: filelock in /usr/local/lib/python3.10/dist-packages (from huggingface-hub>=0.14.1->suno-bark==0.0.1a0) (3.13.3)\n",
            "Requirement already satisfied: fsspec>=2023.5.0 in /usr/local/lib/python3.10/dist-packages (from huggingface-hub>=0.14.1->suno-bark==0.0.1a0) (2023.6.0)\n",
            "Requirement already satisfied: requests in /usr/local/lib/python3.10/dist-packages (from huggingface-hub>=0.14.1->suno-bark==0.0.1a0) (2.31.0)\n",
            "Requirement already satisfied: pyyaml>=5.1 in /usr/local/lib/python3.10/dist-packages (from huggingface-hub>=0.14.1->suno-bark==0.0.1a0) (6.0)\n",
            "Requirement already satisfied: typing-extensions>=3.7.4.3 in /usr/local/lib/python3.10/dist-packages (from huggingface-hub>=0.14.1->suno-bark==0.0.1a0) (4.10.0)\n",
            "Requirement already satisfied: packaging>=20.9 in /usr/local/lib/python3.10/dist-packages (from huggingface-hub>=0.14.1->suno-bark==0.0.1a0) (24.0)\n",
            "Requirement already satisfied: botocore<1.35.0,>=1.34.80 in /usr/local/lib/python3.10/dist-packages (from boto3->suno-bark==0.0.1a0) (1.34.80)\n",
            "Requirement already satisfied: jmespath<2.0.0,>=0.7.1 in /usr/local/lib/python3.10/dist-packages (from boto3->suno-bark==0.0.1a0) (1.0.1)\n",
            "Requirement already satisfied: s3transfer<0.11.0,>=0.10.0 in /usr/local/lib/python3.10/dist-packages (from boto3->suno-bark==0.0.1a0) (0.10.1)\n",
            "Requirement already satisfied: torchaudio in /usr/local/lib/python3.10/dist-packages (from encodec->suno-bark==0.0.1a0) (2.2.1+cu121)\n",
            "Requirement already satisfied: einops in /usr/local/lib/python3.10/dist-packages (from encodec->suno-bark==0.0.1a0) (0.7.0)\n",
            "Requirement already satisfied: sympy in /usr/local/lib/python3.10/dist-packages (from torch->suno-bark==0.0.1a0) (1.12)\n",
            "Requirement already satisfied: networkx in /usr/local/lib/python3.10/dist-packages (from torch->suno-bark==0.0.1a0) (3.2.1)\n",
            "Requirement already satisfied: jinja2 in /usr/local/lib/python3.10/dist-packages (from torch->suno-bark==0.0.1a0) (3.1.3)\n",
            "Requirement already satisfied: nvidia-cuda-nvrtc-cu12==12.1.105 in /usr/local/lib/python3.10/dist-packages (from torch->suno-bark==0.0.1a0) (12.1.105)\n",
            "Requirement already satisfied: nvidia-cuda-runtime-cu12==12.1.105 in /usr/local/lib/python3.10/dist-packages (from torch->suno-bark==0.0.1a0) (12.1.105)\n",
            "Requirement already satisfied: nvidia-cuda-cupti-cu12==12.1.105 in /usr/local/lib/python3.10/dist-packages (from torch->suno-bark==0.0.1a0) (12.1.105)\n",
            "Requirement already satisfied: nvidia-cudnn-cu12==8.9.2.26 in /usr/local/lib/python3.10/dist-packages (from torch->suno-bark==0.0.1a0) (8.9.2.26)\n",
            "Requirement already satisfied: nvidia-cublas-cu12==12.1.3.1 in /usr/local/lib/python3.10/dist-packages (from torch->suno-bark==0.0.1a0) (12.1.3.1)\n",
            "Requirement already satisfied: nvidia-cufft-cu12==11.0.2.54 in /usr/local/lib/python3.10/dist-packages (from torch->suno-bark==0.0.1a0) (11.0.2.54)\n",
            "Requirement already satisfied: nvidia-curand-cu12==10.3.2.106 in /usr/local/lib/python3.10/dist-packages (from torch->suno-bark==0.0.1a0) (10.3.2.106)\n",
            "Requirement already satisfied: nvidia-cusolver-cu12==11.4.5.107 in /usr/local/lib/python3.10/dist-packages (from torch->suno-bark==0.0.1a0) (11.4.5.107)\n",
            "Requirement already satisfied: nvidia-cusparse-cu12==12.1.0.106 in /usr/local/lib/python3.10/dist-packages (from torch->suno-bark==0.0.1a0) (12.1.0.106)\n",
            "Requirement already satisfied: nvidia-nccl-cu12==2.19.3 in /usr/local/lib/python3.10/dist-packages (from torch->suno-bark==0.0.1a0) (2.19.3)\n",
            "Requirement already satisfied: nvidia-nvtx-cu12==12.1.105 in /usr/local/lib/python3.10/dist-packages (from torch->suno-bark==0.0.1a0) (12.1.105)\n",
            "Requirement already satisfied: triton==2.2.0 in /usr/local/lib/python3.10/dist-packages (from torch->suno-bark==0.0.1a0) (2.2.0)\n",
            "Requirement already satisfied: nvidia-nvjitlink-cu12 in /usr/local/lib/python3.10/dist-packages (from nvidia-cusolver-cu12==11.4.5.107->torch->suno-bark==0.0.1a0) (12.4.127)\n",
            "Requirement already satisfied: regex!=2019.12.17 in /usr/local/lib/python3.10/dist-packages (from transformers->suno-bark==0.0.1a0) (2023.12.25)\n",
            "Requirement already satisfied: safetensors>=0.4.1 in /usr/local/lib/python3.10/dist-packages (from transformers->suno-bark==0.0.1a0) (0.4.2)\n",
            "Requirement already satisfied: python-dateutil<3.0.0,>=2.1 in /usr/local/lib/python3.10/dist-packages (from botocore<1.35.0,>=1.34.80->boto3->suno-bark==0.0.1a0) (2.8.2)\n",
            "Requirement already satisfied: urllib3!=2.2.0,<3,>=1.25.4 in /usr/local/lib/python3.10/dist-packages (from botocore<1.35.0,>=1.34.80->boto3->suno-bark==0.0.1a0) (2.0.7)\n",
            "Requirement already satisfied: MarkupSafe>=2.0 in /usr/local/lib/python3.10/dist-packages (from jinja2->torch->suno-bark==0.0.1a0) (2.1.5)\n",
            "Requirement already satisfied: charset-normalizer<4,>=2 in /usr/local/lib/python3.10/dist-packages (from requests->huggingface-hub>=0.14.1->suno-bark==0.0.1a0) (3.3.2)\n",
            "Requirement already satisfied: idna<4,>=2.5 in /usr/local/lib/python3.10/dist-packages (from requests->huggingface-hub>=0.14.1->suno-bark==0.0.1a0) (3.6)\n",
            "Requirement already satisfied: certifi>=2017.4.17 in /usr/local/lib/python3.10/dist-packages (from requests->huggingface-hub>=0.14.1->suno-bark==0.0.1a0) (2024.2.2)\n",
            "Requirement already satisfied: mpmath>=0.19 in /usr/local/lib/python3.10/dist-packages (from sympy->torch->suno-bark==0.0.1a0) (1.3.0)\n",
            "Requirement already satisfied: six>=1.5 in /usr/local/lib/python3.10/dist-packages (from python-dateutil<3.0.0,>=2.1->botocore<1.35.0,>=1.34.80->boto3->suno-bark==0.0.1a0) (1.16.0)\n"
          ]
        }
      ]
    },
    {
      "cell_type": "code",
      "source": [
        "!pip install -r \"/content/Text_to_Youtube_Gemini/requirements.txt\""
      ],
      "metadata": {
        "colab": {
          "base_uri": "https://localhost:8080/"
        },
        "id": "U08sGjbVWGFB",
        "outputId": "0252f7f4-9ddd-4c74-cef7-83499a7a5f5e"
      },
      "execution_count": 7,
      "outputs": [
        {
          "output_type": "stream",
          "name": "stdout",
          "text": [
            "Requirement already satisfied: openai==0.27.8 in /usr/local/lib/python3.10/dist-packages (from -r /content/Text_to_Youtube_Gemini/requirements.txt (line 1)) (0.27.8)\n",
            "Requirement already satisfied: moviepy==1.0.3 in /usr/local/lib/python3.10/dist-packages (from -r /content/Text_to_Youtube_Gemini/requirements.txt (line 2)) (1.0.3)\n",
            "Requirement already satisfied: numpy==1.25.0 in /usr/local/lib/python3.10/dist-packages (from -r /content/Text_to_Youtube_Gemini/requirements.txt (line 3)) (1.25.0)\n",
            "Requirement already satisfied: PyYAML==6.0 in /usr/local/lib/python3.10/dist-packages (from -r /content/Text_to_Youtube_Gemini/requirements.txt (line 4)) (6.0)\n",
            "Requirement already satisfied: nltk==3.8.1 in /usr/local/lib/python3.10/dist-packages (from -r /content/Text_to_Youtube_Gemini/requirements.txt (line 5)) (3.8.1)\n",
            "Requirement already satisfied: pydub in /usr/local/lib/python3.10/dist-packages (from -r /content/Text_to_Youtube_Gemini/requirements.txt (line 6)) (0.25.1)\n",
            "Requirement already satisfied: soundfile==0.12.1 in /usr/local/lib/python3.10/dist-packages (from -r /content/Text_to_Youtube_Gemini/requirements.txt (line 7)) (0.12.1)\n",
            "Requirement already satisfied: pytube==15.0.0 in /usr/local/lib/python3.10/dist-packages (from -r /content/Text_to_Youtube_Gemini/requirements.txt (line 8)) (15.0.0)\n",
            "Requirement already satisfied: ffmpeg in /usr/local/lib/python3.10/dist-packages (from -r /content/Text_to_Youtube_Gemini/requirements.txt (line 9)) (1.4)\n",
            "Requirement already satisfied: pytest==7.4.0 in /usr/local/lib/python3.10/dist-packages (from -r /content/Text_to_Youtube_Gemini/requirements.txt (line 10)) (7.4.0)\n",
            "Requirement already satisfied: black==23.3.0 in /usr/local/lib/python3.10/dist-packages (from -r /content/Text_to_Youtube_Gemini/requirements.txt (line 11)) (23.3.0)\n",
            "Requirement already satisfied: isort==5.12.0 in /usr/local/lib/python3.10/dist-packages (from -r /content/Text_to_Youtube_Gemini/requirements.txt (line 12)) (5.12.0)\n",
            "Collecting gTTS (from -r /content/Text_to_Youtube_Gemini/requirements.txt (line 13))\n",
            "  Downloading gTTS-2.5.1-py3-none-any.whl (29 kB)\n",
            "Requirement already satisfied: requests>=2.20 in /usr/local/lib/python3.10/dist-packages (from openai==0.27.8->-r /content/Text_to_Youtube_Gemini/requirements.txt (line 1)) (2.31.0)\n",
            "Requirement already satisfied: tqdm in /usr/local/lib/python3.10/dist-packages (from openai==0.27.8->-r /content/Text_to_Youtube_Gemini/requirements.txt (line 1)) (4.66.2)\n",
            "Requirement already satisfied: aiohttp in /usr/local/lib/python3.10/dist-packages (from openai==0.27.8->-r /content/Text_to_Youtube_Gemini/requirements.txt (line 1)) (3.9.3)\n",
            "Requirement already satisfied: decorator<5.0,>=4.0.2 in /usr/local/lib/python3.10/dist-packages (from moviepy==1.0.3->-r /content/Text_to_Youtube_Gemini/requirements.txt (line 2)) (4.4.2)\n",
            "Requirement already satisfied: proglog<=1.0.0 in /usr/local/lib/python3.10/dist-packages (from moviepy==1.0.3->-r /content/Text_to_Youtube_Gemini/requirements.txt (line 2)) (0.1.10)\n",
            "Requirement already satisfied: imageio<3.0,>=2.5 in /usr/local/lib/python3.10/dist-packages (from moviepy==1.0.3->-r /content/Text_to_Youtube_Gemini/requirements.txt (line 2)) (2.31.6)\n",
            "Requirement already satisfied: imageio-ffmpeg>=0.2.0 in /usr/local/lib/python3.10/dist-packages (from moviepy==1.0.3->-r /content/Text_to_Youtube_Gemini/requirements.txt (line 2)) (0.4.9)\n",
            "Requirement already satisfied: click in /usr/local/lib/python3.10/dist-packages (from nltk==3.8.1->-r /content/Text_to_Youtube_Gemini/requirements.txt (line 5)) (8.1.7)\n",
            "Requirement already satisfied: joblib in /usr/local/lib/python3.10/dist-packages (from nltk==3.8.1->-r /content/Text_to_Youtube_Gemini/requirements.txt (line 5)) (1.3.2)\n",
            "Requirement already satisfied: regex>=2021.8.3 in /usr/local/lib/python3.10/dist-packages (from nltk==3.8.1->-r /content/Text_to_Youtube_Gemini/requirements.txt (line 5)) (2023.12.25)\n",
            "Requirement already satisfied: cffi>=1.0 in /usr/local/lib/python3.10/dist-packages (from soundfile==0.12.1->-r /content/Text_to_Youtube_Gemini/requirements.txt (line 7)) (1.16.0)\n",
            "Requirement already satisfied: iniconfig in /usr/local/lib/python3.10/dist-packages (from pytest==7.4.0->-r /content/Text_to_Youtube_Gemini/requirements.txt (line 10)) (2.0.0)\n",
            "Requirement already satisfied: packaging in /usr/local/lib/python3.10/dist-packages (from pytest==7.4.0->-r /content/Text_to_Youtube_Gemini/requirements.txt (line 10)) (24.0)\n",
            "Requirement already satisfied: pluggy<2.0,>=0.12 in /usr/local/lib/python3.10/dist-packages (from pytest==7.4.0->-r /content/Text_to_Youtube_Gemini/requirements.txt (line 10)) (1.4.0)\n",
            "Requirement already satisfied: exceptiongroup>=1.0.0rc8 in /usr/local/lib/python3.10/dist-packages (from pytest==7.4.0->-r /content/Text_to_Youtube_Gemini/requirements.txt (line 10)) (1.2.0)\n",
            "Requirement already satisfied: tomli>=1.0.0 in /usr/local/lib/python3.10/dist-packages (from pytest==7.4.0->-r /content/Text_to_Youtube_Gemini/requirements.txt (line 10)) (2.0.1)\n",
            "Requirement already satisfied: mypy-extensions>=0.4.3 in /usr/local/lib/python3.10/dist-packages (from black==23.3.0->-r /content/Text_to_Youtube_Gemini/requirements.txt (line 11)) (1.0.0)\n",
            "Requirement already satisfied: pathspec>=0.9.0 in /usr/local/lib/python3.10/dist-packages (from black==23.3.0->-r /content/Text_to_Youtube_Gemini/requirements.txt (line 11)) (0.12.1)\n",
            "Requirement already satisfied: platformdirs>=2 in /usr/local/lib/python3.10/dist-packages (from black==23.3.0->-r /content/Text_to_Youtube_Gemini/requirements.txt (line 11)) (4.2.0)\n",
            "Requirement already satisfied: pycparser in /usr/local/lib/python3.10/dist-packages (from cffi>=1.0->soundfile==0.12.1->-r /content/Text_to_Youtube_Gemini/requirements.txt (line 7)) (2.22)\n",
            "Requirement already satisfied: pillow<10.1.0,>=8.3.2 in /usr/local/lib/python3.10/dist-packages (from imageio<3.0,>=2.5->moviepy==1.0.3->-r /content/Text_to_Youtube_Gemini/requirements.txt (line 2)) (9.4.0)\n",
            "Requirement already satisfied: setuptools in /usr/local/lib/python3.10/dist-packages (from imageio-ffmpeg>=0.2.0->moviepy==1.0.3->-r /content/Text_to_Youtube_Gemini/requirements.txt (line 2)) (67.7.2)\n",
            "Requirement already satisfied: charset-normalizer<4,>=2 in /usr/local/lib/python3.10/dist-packages (from requests>=2.20->openai==0.27.8->-r /content/Text_to_Youtube_Gemini/requirements.txt (line 1)) (3.3.2)\n",
            "Requirement already satisfied: idna<4,>=2.5 in /usr/local/lib/python3.10/dist-packages (from requests>=2.20->openai==0.27.8->-r /content/Text_to_Youtube_Gemini/requirements.txt (line 1)) (3.6)\n",
            "Requirement already satisfied: urllib3<3,>=1.21.1 in /usr/local/lib/python3.10/dist-packages (from requests>=2.20->openai==0.27.8->-r /content/Text_to_Youtube_Gemini/requirements.txt (line 1)) (2.0.7)\n",
            "Requirement already satisfied: certifi>=2017.4.17 in /usr/local/lib/python3.10/dist-packages (from requests>=2.20->openai==0.27.8->-r /content/Text_to_Youtube_Gemini/requirements.txt (line 1)) (2024.2.2)\n",
            "Requirement already satisfied: aiosignal>=1.1.2 in /usr/local/lib/python3.10/dist-packages (from aiohttp->openai==0.27.8->-r /content/Text_to_Youtube_Gemini/requirements.txt (line 1)) (1.3.1)\n",
            "Requirement already satisfied: attrs>=17.3.0 in /usr/local/lib/python3.10/dist-packages (from aiohttp->openai==0.27.8->-r /content/Text_to_Youtube_Gemini/requirements.txt (line 1)) (23.2.0)\n",
            "Requirement already satisfied: frozenlist>=1.1.1 in /usr/local/lib/python3.10/dist-packages (from aiohttp->openai==0.27.8->-r /content/Text_to_Youtube_Gemini/requirements.txt (line 1)) (1.4.1)\n",
            "Requirement already satisfied: multidict<7.0,>=4.5 in /usr/local/lib/python3.10/dist-packages (from aiohttp->openai==0.27.8->-r /content/Text_to_Youtube_Gemini/requirements.txt (line 1)) (6.0.5)\n",
            "Requirement already satisfied: yarl<2.0,>=1.0 in /usr/local/lib/python3.10/dist-packages (from aiohttp->openai==0.27.8->-r /content/Text_to_Youtube_Gemini/requirements.txt (line 1)) (1.9.4)\n",
            "Requirement already satisfied: async-timeout<5.0,>=4.0 in /usr/local/lib/python3.10/dist-packages (from aiohttp->openai==0.27.8->-r /content/Text_to_Youtube_Gemini/requirements.txt (line 1)) (4.0.3)\n",
            "Installing collected packages: gTTS\n",
            "Successfully installed gTTS-2.5.1\n"
          ]
        }
      ]
    },
    {
      "cell_type": "code",
      "source": [
        "import os\n",
        "os.chdir(\"/content/Text_to_Youtube_Gemini\")\n",
        "\n",
        "# Set XDG_RUNTIME_DIR\n",
        "#os.environ['XDG_RUNTIME_DIR'] = '/tmp'\n",
        "\n",
        "# You can replace 'username' with your actual username if needed,\n",
        "# but in Colab, this is not necessary.\n",
        "\n",
        "!python /content/Text_to_Youtube_Gemini/app.py"
      ],
      "metadata": {
        "colab": {
          "base_uri": "https://localhost:8080/"
        },
        "id": "i2Ymu0NdWa-S",
        "outputId": "a70aeeba-965b-4715-cfe4-3f84a69e2ed1"
      },
      "execution_count": 8,
      "outputs": [
        {
          "output_type": "stream",
          "name": "stdout",
          "text": [
            "[nltk_data] Downloading package punkt to /root/nltk_data...\n",
            "[nltk_data]   Package punkt is already up-to-date!\n",
            "ALSA lib confmisc.c:855:(parse_card) cannot find card '0'\n",
            "ALSA lib conf.c:5178:(_snd_config_evaluate) function snd_func_card_inum returned error: No such file or directory\n",
            "ALSA lib confmisc.c:422:(snd_func_concat) error evaluating strings\n",
            "ALSA lib conf.c:5178:(_snd_config_evaluate) function snd_func_concat returned error: No such file or directory\n",
            "ALSA lib confmisc.c:1334:(snd_func_refer) error evaluating name\n",
            "ALSA lib conf.c:5178:(_snd_config_evaluate) function snd_func_refer returned error: No such file or directory\n",
            "ALSA lib conf.c:5701:(snd_config_expand) Evaluate error: No such file or directory\n",
            "ALSA lib pcm.c:2664:(snd_pcm_open_noupdate) Unknown PCM default\n",
            "ALSA lib confmisc.c:855:(parse_card) cannot find card '0'\n",
            "ALSA lib conf.c:5178:(_snd_config_evaluate) function snd_func_card_inum returned error: No such file or directory\n",
            "ALSA lib confmisc.c:422:(snd_func_concat) error evaluating strings\n",
            "ALSA lib conf.c:5178:(_snd_config_evaluate) function snd_func_concat returned error: No such file or directory\n",
            "ALSA lib confmisc.c:1334:(snd_func_refer) error evaluating name\n",
            "ALSA lib conf.c:5178:(_snd_config_evaluate) function snd_func_refer returned error: No such file or directory\n",
            "ALSA lib conf.c:5701:(snd_config_expand) Evaluate error: No such file or directory\n",
            "ALSA lib pcm.c:2664:(snd_pcm_open_noupdate) Unknown PCM default\n",
            "2024-04-09 06:44:16,261 - INFO     - utils.py             - get_cookies          - Cookies loaded OK\n",
            "2024-04-09 06:44:16,261 - INFO     - app.py               - main                 - App start\n",
            "2024-04-09 06:44:16,262 - INFO     - utils.py             - prep_directories     - Directories prepared\n",
            "2024-04-09 06:44:16,262 - INFO     - app.py               - main                 - Processing: input_files/example.txt\n",
            "2\n",
            "2024-04-09 06:44:16,262 - INFO     - app.py               - run                  - Input data loaded\n",
            "2024-04-09 06:44:39,368 - INFO     - app.py               - run                  - Gemini AI response received\n",
            "**Growth Strategy for the Israeli Economy**\n",
            "\n",
            "**Goal:** Increase productivity growth rate and close the GDP per capita gap with comparable OECD countries.\n",
            "\n",
            "**Analysis of Productivity Gap:**\n",
            "\n",
            "* Low levels of public investment and capital stock in transportation and ICT infrastructure\n",
            "* Shortage of human capital, especially among non-academic individuals\n",
            "* Excessive regulatory and bureaucratic burden on businesses\n",
            "\n",
            "**Policy Strategy:**\n",
            "\n",
            "**1. Increase Public Investment in Infrastructure:**\n",
            "\n",
            "* Invest heavily in transportation infrastructure, including public transportation, roads, and highways.\n",
            "* Expand ICT infrastructure to support digital transformation and innovation.\n",
            "\n",
            "**2. Enhance Human Capital:**\n",
            "\n",
            "* Establish a comprehensive vocational education and training (VET) system.\n",
            "* Improve access to higher education for all sectors of the population.\n",
            "* Focus on developing skills in STEM fields, technology, and innovation.\n",
            "\n",
            "**3. Reduce Regulatory Burden on Businesses:**\n",
            "\n",
            "* Streamline and simplify business regulations.\n",
            "* Eliminate unnecessary bureaucratic processes.\n",
            "* Encourage competition and reduce barriers to entry in key sectors.\n",
            "\n",
            "**Additional Measures:**\n",
            "\n",
            "* Promote innovation and technological advancement through R&D incentives and support for startups.\n",
            "* Foster entrepreneurship and small business development.\n",
            "* Invest in renewable energy and green technologies to enhance sustainability and reduce energy dependence.\n",
            "* Address labor force shortages in the non-ultra-Orthodox Jewish population by incentivizing employment participation.\n",
            "\n",
            "**Monitoring and Evaluation:**\n",
            "\n",
            "* Establish a continuous monitoring system to track progress and identify areas for improvement.\n",
            "* Set specific targets for productivity growth and infrastructure development.\n",
            "* Regularly evaluate the effectiveness of implemented programs and make necessary adjustments.\n",
            "\n",
            "**Conclusion:**\n",
            "\n",
            "By implementing this comprehensive growth strategy, Israel can address the key factors contributing to its productivity gap. This will boost economic growth, increase GDP per capita, and improve the overall competitiveness of the Israeli economy. Regular monitoring and evaluation will ensure that the strategy remains effective and adaptable to changing circumstances.\n",
            "./process_files/example\n",
            "2024-04-09 06:44:39,368 - INFO     - utils.py             - generate_video_meta  - Generating video meta...\n",
            "2024-04-09 06:44:39,368 - INFO     - utils.py             - generate_video_meta  - Meta saved OK\n",
            "2024-04-09 06:44:39,368 - INFO     - audio.py             - generate_voice_over  - Generate voiceover\n",
            "2024-04-09 06:44:39,374 - INFO     - video_processing.py  - save_videos          - Start video collection...\n"
          ]
        }
      ]
    },
    {
      "cell_type": "code",
      "source": [],
      "metadata": {
        "id": "6r3WJdssYRrx"
      },
      "execution_count": null,
      "outputs": []
    }
  ]
}